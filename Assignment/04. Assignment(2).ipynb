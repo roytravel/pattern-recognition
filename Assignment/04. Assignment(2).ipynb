{
 "cells": [
  {
   "cell_type": "code",
   "execution_count": 197,
   "id": "fd4adeac",
   "metadata": {},
   "outputs": [],
   "source": [
    "import os\n",
    "import tensorflow as tf\n",
    "from tensorflow.keras.models import load_model\n",
    "from tensorflow.keras.preprocessing.image import ImageDataGenerator\n",
    "from tensorflow.keras import Sequential\n",
    "from tensorflow.keras.layers import InputLayer, Conv2D, MaxPool2D, Flatten, BatchNormalization, Dropout, Dense, LeakyReLU\n",
    "from tensorflow.keras.applications import MobileNetV2\n",
    "from sklearn.model_selection import cross_val_score"
   ]
  },
  {
   "cell_type": "markdown",
   "id": "da21e81b",
   "metadata": {},
   "source": [
    "# 모델 로드"
   ]
  },
  {
   "cell_type": "code",
   "execution_count": 15,
   "id": "c63d4829",
   "metadata": {},
   "outputs": [],
   "source": [
    "model = load_model('model.h5')"
   ]
  },
  {
   "cell_type": "markdown",
   "id": "891924cc",
   "metadata": {},
   "source": [
    "\n",
    "# 데이터셋 로드"
   ]
  },
  {
   "cell_type": "code",
   "execution_count": 139,
   "id": "1af13ed9",
   "metadata": {},
   "outputs": [],
   "source": [
    "train_path = ''\n",
    "test_path =  ''"
   ]
  },
  {
   "cell_type": "markdown",
   "id": "13e5d28e",
   "metadata": {},
   "source": [
    "# 데이터 어그멘테이션"
   ]
  },
  {
   "cell_type": "markdown",
   "id": "3f2b336a",
   "metadata": {},
   "source": [
    "## train generator 생성"
   ]
  },
  {
   "cell_type": "code",
   "execution_count": 304,
   "id": "09849921",
   "metadata": {},
   "outputs": [],
   "source": [
    "train_generator = ImageDataGenerator(horizontal_flip=True,\n",
    "                                     vertical_flip=False,\n",
    "                                     shear_range=0.2,\n",
    "                                     zoom_range=0.2,\n",
    "                                     rescale=1./255,\n",
    "                                     validation_split=0.2)"
   ]
  },
  {
   "cell_type": "markdown",
   "id": "44afe81d",
   "metadata": {},
   "source": [
    "## train 데이터 생성"
   ]
  },
  {
   "cell_type": "code",
   "execution_count": 314,
   "id": "c84515ce",
   "metadata": {},
   "outputs": [
    {
     "name": "stdout",
     "output_type": "stream",
     "text": [
      "Found 1633 images belonging to 2 classes.\n"
     ]
    }
   ],
   "source": [
    "train = train_generator.flow_from_directory(train_path,\n",
    "                                           batch_size=32,\n",
    "                                           class_mode='binary',\n",
    "                                           target_size=(96, 96),\n",
    "                                           color_mode='rgb',\n",
    "                                           shuffle=True,\n",
    "                                           subset='training')"
   ]
  },
  {
   "cell_type": "markdown",
   "id": "48ac45ca",
   "metadata": {},
   "source": [
    "## validation 데이터 생성"
   ]
  },
  {
   "cell_type": "code",
   "execution_count": 315,
   "id": "97c26d13",
   "metadata": {},
   "outputs": [
    {
     "name": "stdout",
     "output_type": "stream",
     "text": [
      "Found 408 images belonging to 2 classes.\n"
     ]
    }
   ],
   "source": [
    "validation = train_generator.flow_from_directory(train_path,\n",
    "                                           batch_size=32,\n",
    "                                           class_mode='binary',\n",
    "                                           target_size=(96, 96),\n",
    "                                           color_mode='rgb',\n",
    "                                           shuffle=True,\n",
    "                                           subset='validation')"
   ]
  },
  {
   "cell_type": "markdown",
   "id": "92aa284a",
   "metadata": {},
   "source": [
    "## test 데이터 생성"
   ]
  },
  {
   "cell_type": "code",
   "execution_count": 316,
   "id": "c4094641",
   "metadata": {},
   "outputs": [
    {
     "name": "stdout",
     "output_type": "stream",
     "text": [
      "Found 2041 images belonging to 2 classes.\n"
     ]
    }
   ],
   "source": [
    "test_generator = ImageDataGenerator(horizontal_flip=True,\n",
    "                                    vertical_flip=False,\n",
    "                                    rescale=1./255,)\n",
    "\n",
    "test = test_generator.flow_from_directory(test_path,\n",
    "                                         batch_size=32,\n",
    "                                         class_mode='binary',\n",
    "                                         target_size=(96, 96),\n",
    "                                         color_mode='rgb')"
   ]
  },
  {
   "cell_type": "markdown",
   "id": "fffbcf09",
   "metadata": {},
   "source": [
    "# 모델 설계"
   ]
  },
  {
   "cell_type": "code",
   "execution_count": 308,
   "id": "67641a4a",
   "metadata": {},
   "outputs": [],
   "source": [
    "mobilenetV2 = MobileNetV2(input_shape=(96, 96, 3),\n",
    "                          include_top=False,\n",
    "                          weights='imagenet')\n",
    "\n",
    "model = Sequential([\n",
    "    #InputLayer(input_shape=(96, 96, 3)),\n",
    "    mobilenetV2,\n",
    "    tf.keras.layers.GlobalAveragePooling2D(),\n",
    "    Dense(512, activation=LeakyReLU(alpha=0.2)),\n",
    "    BatchNormalization(),\n",
    "    Dropout(0.2),\n",
    "    Dense(128, activation=LeakyReLU(alpha=0.2)),\n",
    "    Dropout(0.2),\n",
    "    Dense(2, activation='softmax')\n",
    "    #Conv2D(16, kernel_size=[3, 3], strides=[1, 1], padding='same', activation=LeakyReLU(alpha=0.2)),\n",
    "    #MaxPool2D([2, 2], [2, 2]),\n",
    "    #Conv2D(32, kernel_size=[3, 3], strides=[1, 1], padding='same', activation=LeakyReLU(alpha=0.2)),\n",
    "    #MaxPool2D([2, 2], [2, 2]),\n",
    "    #Flatten(),\n",
    "    #Dense(128, activation='relu'),\n",
    "    #Dense(1, activation='sigmoid')\n",
    "])\n",
    "\n",
    "model.layers[0].trainable=False"
   ]
  },
  {
   "cell_type": "markdown",
   "id": "501bf926",
   "metadata": {},
   "source": [
    "## 모델 컴파일"
   ]
  },
  {
   "cell_type": "code",
   "execution_count": 310,
   "id": "aedba443",
   "metadata": {},
   "outputs": [],
   "source": [
    "from tensorflow.keras.optimizers import SGD\n",
    "model.compile(optimizer='adam',\n",
    "             loss='sparse_categorical_crossentropy',\n",
    "             metrics=['accuracy'])"
   ]
  },
  {
   "cell_type": "markdown",
   "id": "9e7388c4",
   "metadata": {},
   "source": [
    "## 모델 요약"
   ]
  },
  {
   "cell_type": "code",
   "execution_count": 311,
   "id": "92ad0471",
   "metadata": {},
   "outputs": [
    {
     "name": "stdout",
     "output_type": "stream",
     "text": [
      "Model: \"sequential_24\"\n",
      "_________________________________________________________________\n",
      "Layer (type)                 Output Shape              Param #   \n",
      "=================================================================\n",
      "mobilenetv2_1.00_96 (Functio (None, 3, 3, 1280)        2257984   \n",
      "_________________________________________________________________\n",
      "global_average_pooling2d_8 ( (None, 1280)              0         \n",
      "_________________________________________________________________\n",
      "dense_42 (Dense)             (None, 512)               655872    \n",
      "_________________________________________________________________\n",
      "batch_normalization_8 (Batch (None, 512)               2048      \n",
      "_________________________________________________________________\n",
      "dropout_12 (Dropout)         (None, 512)               0         \n",
      "_________________________________________________________________\n",
      "dense_43 (Dense)             (None, 128)               65664     \n",
      "_________________________________________________________________\n",
      "dropout_13 (Dropout)         (None, 128)               0         \n",
      "_________________________________________________________________\n",
      "dense_44 (Dense)             (None, 2)                 258       \n",
      "=================================================================\n",
      "Total params: 2,981,826\n",
      "Trainable params: 722,818\n",
      "Non-trainable params: 2,259,008\n",
      "_________________________________________________________________\n"
     ]
    }
   ],
   "source": [
    "model.summary()"
   ]
  },
  {
   "cell_type": "markdown",
   "id": "e413f6d7",
   "metadata": {},
   "source": [
    "## 콜백"
   ]
  },
  {
   "cell_type": "code",
   "execution_count": 312,
   "id": "bb59dde1",
   "metadata": {},
   "outputs": [],
   "source": [
    "early_stop= tf.keras.callbacks.EarlyStopping(monitor='loss', patience=3)\n",
    "#lr_callbacks = tf.keras.callbacks.LearningRateScheduler(scheduler)"
   ]
  },
  {
   "cell_type": "markdown",
   "id": "4429345b",
   "metadata": {},
   "source": [
    "## 모델 학습"
   ]
  },
  {
   "cell_type": "code",
   "execution_count": 313,
   "id": "7dd2ecba",
   "metadata": {},
   "outputs": [
    {
     "name": "stdout",
     "output_type": "stream",
     "text": [
      "Epoch 1/50\n",
      "52/52 [==============================] - 20s 349ms/step - loss: 1.0751 - accuracy: 0.5720 - val_loss: 1.4160 - val_accuracy: 0.5221\n",
      "Epoch 2/50\n",
      "52/52 [==============================] - 17s 336ms/step - loss: 0.7591 - accuracy: 0.6387 - val_loss: 0.9284 - val_accuracy: 0.5221\n",
      "Epoch 3/50\n",
      "52/52 [==============================] - 17s 336ms/step - loss: 0.6592 - accuracy: 0.6742 - val_loss: 0.9134 - val_accuracy: 0.5319\n",
      "Epoch 4/50\n",
      "52/52 [==============================] - 18s 344ms/step - loss: 0.6153 - accuracy: 0.6938 - val_loss: 0.9457 - val_accuracy: 0.5343\n",
      "Epoch 5/50\n",
      "52/52 [==============================] - 17s 336ms/step - loss: 0.5814 - accuracy: 0.7122 - val_loss: 0.8806 - val_accuracy: 0.5539\n",
      "Epoch 6/50\n",
      "52/52 [==============================] - 17s 335ms/step - loss: 0.5540 - accuracy: 0.7330 - val_loss: 0.9264 - val_accuracy: 0.5049\n",
      "Epoch 7/50\n",
      "52/52 [==============================] - 17s 336ms/step - loss: 0.5215 - accuracy: 0.7471 - val_loss: 0.9175 - val_accuracy: 0.5417\n",
      "Epoch 8/50\n",
      "52/52 [==============================] - 17s 333ms/step - loss: 0.5044 - accuracy: 0.7569 - val_loss: 1.0639 - val_accuracy: 0.5049\n",
      "Epoch 9/50\n",
      "52/52 [==============================] - 17s 334ms/step - loss: 0.4856 - accuracy: 0.7618 - val_loss: 1.0134 - val_accuracy: 0.5196\n",
      "Epoch 10/50\n",
      "52/52 [==============================] - 17s 336ms/step - loss: 0.4500 - accuracy: 0.7765 - val_loss: 0.9894 - val_accuracy: 0.5466\n",
      "Epoch 11/50\n",
      "52/52 [==============================] - 18s 344ms/step - loss: 0.4577 - accuracy: 0.7930 - val_loss: 0.9416 - val_accuracy: 0.5417\n",
      "Epoch 12/50\n",
      "52/52 [==============================] - 18s 343ms/step - loss: 0.4377 - accuracy: 0.7973 - val_loss: 0.9947 - val_accuracy: 0.5392\n",
      "Epoch 13/50\n",
      "52/52 [==============================] - 17s 335ms/step - loss: 0.4145 - accuracy: 0.8169 - val_loss: 1.0966 - val_accuracy: 0.5074\n",
      "Epoch 14/50\n",
      "52/52 [==============================] - 18s 351ms/step - loss: 0.4222 - accuracy: 0.8034 - val_loss: 1.0138 - val_accuracy: 0.5049\n",
      "Epoch 15/50\n",
      "52/52 [==============================] - 18s 340ms/step - loss: 0.3954 - accuracy: 0.8187 - val_loss: 0.9981 - val_accuracy: 0.5392\n",
      "Epoch 16/50\n",
      "52/52 [==============================] - 18s 342ms/step - loss: 0.3849 - accuracy: 0.8242 - val_loss: 1.0583 - val_accuracy: 0.5221\n",
      "Epoch 17/50\n",
      "52/52 [==============================] - 18s 345ms/step - loss: 0.4085 - accuracy: 0.8132 - val_loss: 1.0439 - val_accuracy: 0.5564\n",
      "Epoch 18/50\n",
      "52/52 [==============================] - 18s 344ms/step - loss: 0.3920 - accuracy: 0.8242 - val_loss: 1.1498 - val_accuracy: 0.5172\n",
      "Epoch 19/50\n",
      "52/52 [==============================] - 19s 367ms/step - loss: 0.3578 - accuracy: 0.8469 - val_loss: 1.0929 - val_accuracy: 0.5294\n",
      "Epoch 20/50\n",
      "52/52 [==============================] - 18s 343ms/step - loss: 0.3545 - accuracy: 0.8396 - val_loss: 1.1900 - val_accuracy: 0.5123\n",
      "Epoch 21/50\n",
      "52/52 [==============================] - 18s 345ms/step - loss: 0.3773 - accuracy: 0.8291 - val_loss: 1.1370 - val_accuracy: 0.5368\n",
      "Epoch 22/50\n",
      "52/52 [==============================] - 18s 339ms/step - loss: 0.3716 - accuracy: 0.8285 - val_loss: 1.1042 - val_accuracy: 0.5049\n",
      "Epoch 23/50\n",
      "52/52 [==============================] - 18s 341ms/step - loss: 0.3501 - accuracy: 0.8389 - val_loss: 1.2209 - val_accuracy: 0.5221\n",
      "Epoch 24/50\n",
      "52/52 [==============================] - 18s 341ms/step - loss: 0.3129 - accuracy: 0.8690 - val_loss: 1.2484 - val_accuracy: 0.5245\n",
      "Epoch 25/50\n",
      "52/52 [==============================] - 18s 340ms/step - loss: 0.3258 - accuracy: 0.8573 - val_loss: 1.2345 - val_accuracy: 0.5343\n",
      "Epoch 26/50\n",
      "52/52 [==============================] - 18s 342ms/step - loss: 0.3406 - accuracy: 0.8414 - val_loss: 1.4620 - val_accuracy: 0.5074\n",
      "Epoch 27/50\n",
      "52/52 [==============================] - 18s 349ms/step - loss: 0.3051 - accuracy: 0.8598 - val_loss: 1.4194 - val_accuracy: 0.5343\n",
      "Epoch 28/50\n",
      "52/52 [==============================] - 18s 345ms/step - loss: 0.3118 - accuracy: 0.8567 - val_loss: 1.3491 - val_accuracy: 0.5343\n",
      "Epoch 29/50\n",
      "52/52 [==============================] - 18s 352ms/step - loss: 0.3263 - accuracy: 0.8512 - val_loss: 1.2655 - val_accuracy: 0.5270\n",
      "Epoch 30/50\n",
      "52/52 [==============================] - 18s 348ms/step - loss: 0.3072 - accuracy: 0.8665 - val_loss: 1.2745 - val_accuracy: 0.5172\n"
     ]
    }
   ],
   "source": [
    "hist = model.fit(train,\n",
    "                 validation_data= validation,\n",
    "                 epochs=50,\n",
    "                 callbacks=[early_stop])"
   ]
  },
  {
   "cell_type": "markdown",
   "id": "baa6a736",
   "metadata": {},
   "source": [
    "## 라벨 확인"
   ]
  },
  {
   "cell_type": "code",
   "execution_count": 297,
   "id": "5cb5e106",
   "metadata": {},
   "outputs": [
    {
     "name": "stdout",
     "output_type": "stream",
     "text": [
      "{'training_fake': 0, 'training_real': 1}\n"
     ]
    }
   ],
   "source": [
    "print (test.class_indices)"
   ]
  },
  {
   "cell_type": "markdown",
   "id": "5161b9ae",
   "metadata": {},
   "source": [
    "## 모델 평가"
   ]
  },
  {
   "cell_type": "code",
   "execution_count": 298,
   "id": "74d75980",
   "metadata": {},
   "outputs": [
    {
     "name": "stdout",
     "output_type": "stream",
     "text": [
      "13/13 [==============================] - 3s 209ms/step - loss: 0.9152 - accuracy: 0.5147\n",
      "[0.9152485132217407, 0.5147058963775635]\n"
     ]
    }
   ],
   "source": [
    "score = model.evaluate(validation, verbose=1)\n",
    "print (score)"
   ]
  },
  {
   "cell_type": "markdown",
   "id": "f3a54be4",
   "metadata": {},
   "source": [
    "## 모델 예측\n"
   ]
  },
  {
   "cell_type": "code",
   "execution_count": 299,
   "id": "b02fb8d7",
   "metadata": {},
   "outputs": [
    {
     "name": "stdout",
     "output_type": "stream",
     "text": [
      "2041/2041 [==============================] - 16s 8ms/step\n",
      "2041\n"
     ]
    }
   ],
   "source": [
    "predict = model.predict(test, verbose=1)\n",
    "print (len(predict))"
   ]
  },
  {
   "cell_type": "code",
   "execution_count": null,
   "id": "c37a86fc",
   "metadata": {},
   "outputs": [],
   "source": []
  },
  {
   "cell_type": "markdown",
   "id": "746c4dc8",
   "metadata": {},
   "source": [
    "# 시각화"
   ]
  },
  {
   "cell_type": "code",
   "execution_count": 302,
   "id": "06b16d3d",
   "metadata": {},
   "outputs": [
    {
     "data": {
      "image/png": "[encoded data removed]",
      "text/plain": [
       "<Figure size 504x360 with 1 Axes>"
      ]
     },
     "metadata": {
      "needs_background": "light"
     },
     "output_type": "display_data"
    },
    {
     "data": {
      "image/png": "[encoded data removed]",
      "text/plain": [
       "<Figure size 560x400 with 1 Axes>"
      ]
     },
     "metadata": {},
     "output_type": "display_data"
    }
   ],
   "source": [
    "import matplotlib.pyplot as plt\n",
    "epochs = 43\n",
    "train_loss = hist.history['loss']\n",
    "val_loss = hist.history['val_loss']\n",
    "train_acc = hist.history['accuracy']\n",
    "val_acc = hist.history['val_accuracy']\n",
    "xc = range(epochs)\n",
    "\n",
    "plt.figure(1,figsize=(7,5))\n",
    "plt.plot(xc,train_loss)\n",
    "plt.plot(xc,val_loss)\n",
    "plt.xlabel('num of Epochs')\n",
    "plt.ylabel('loss')\n",
    "plt.title('train_loss vs val_loss')\n",
    "plt.grid(True)\n",
    "plt.legend(['train','val'])\n",
    "#print plt.style.available # use bmh, classic,ggplot for big pictures\n",
    "plt.style.use(['classic'])\n",
    "\n",
    "plt.figure(2,figsize=(7,5))\n",
    "plt.plot(xc,train_acc)\n",
    "plt.plot(xc,val_acc)\n",
    "plt.xlabel('num of Epochs')\n",
    "plt.ylabel('accuracy')\n",
    "plt.title('train_acc vs val_acc')\n",
    "plt.grid(True)\n",
    "plt.legend(['train','val'],loc=4)\n",
    "#print plt.style.available # use bmh, classic,ggplot for big pictures\n",
    "plt.style.use(['classic'])"
   ]
  },
  {
   "cell_type": "markdown",
   "id": "eda75250",
   "metadata": {},
   "source": [
    "\n"
   ]
  },
  {
   "cell_type": "code",
   "execution_count": 340,
   "id": "ab02eccd",
   "metadata": {},
   "outputs": [
    {
     "name": "stdout",
     "output_type": "stream",
     "text": [
      "real\n"
     ]
    }
   ],
   "source": [
    "from tensorflow.keras.preprocessing import image\n",
    "import numpy as np\n",
    "from PIL import Image\n",
    "import cv2\n",
    "size = (96, 96)\n",
    "\n",
    "def load_img(path):\n",
    "    image = cv2.imread(path)\n",
    "    image = cv2.resize(image, (96, 96))\n",
    "    return image[..., ::-1]\n",
    "\n",
    "\n",
    "\n",
    "test_image = load_img('easy_4_0011.jpg')\n",
    "#test_image = image.load_img('C:/github_roytravel/roytravel/pattern-recognition/Assignment/test/training_fake/easy_4_0011.jpg')\n",
    "#test_image = image.smart_resize(test_image, size)\n",
    "test_image = image.img_to_array(test_image)\n",
    "test_image = np.expand_dims(test_image, axis=0)\n",
    "result = model.predict(test_image)\n",
    "#print (result)\n",
    "#print (train.class_indicies)\n",
    "prediction = [\"fake\" if result[0][0] == 1 else \"real\"]\n",
    "print (prediction[0])\n"
   ]
  },
  {
   "cell_type": "code",
   "execution_count": null,
   "id": "69542fc2",
   "metadata": {},
   "outputs": [],
   "source": []
  }
 ],
 "metadata": {
  "kernelspec": {
   "display_name": "pattern",
   "language": "python",
   "name": "pattern"
  },
  "language_info": {
   "codemirror_mode": {
    "name": "ipython",
    "version": 3
   },
   "file_extension": ".py",
   "mimetype": "text/x-python",
   "name": "python",
   "nbconvert_exporter": "python",
   "pygments_lexer": "ipython3",
   "version": "3.6.8"
  }
 },
 "nbformat": 4,
 "nbformat_minor": 5
}
